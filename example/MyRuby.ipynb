{
 "cells": [
  {
   "cell_type": "code",
   "execution_count": 1,
   "metadata": {},
   "outputs": [
    {
     "name": "stdout",
     "output_type": "stream",
     "text": [
      "[MyRuby Kernel] Info:file h:\\Jupyter\\ipynb\\MyRuby\\src/test.rb created successfully\n",
      "[MyRuby Kernel] Info:The process :h:\\Jupyter\\ipynb\\MyRuby\\src/test.rb\n",
      "[MyRuby Kernel] Info:h:\\Jupyter\\ipynb\\MyRuby\\tmpnzy1k7zi.bat\n",
      "[MyRuby Kernel] Info:c:\\Windows\\System32\\cmd.exe /c start h:\\Jupyter\\ipynb\\MyRuby\\tmpnzy1k7zi.bat \n",
      "[MyRuby Kernel] Info:The process end:11424\n"
     ]
    }
   ],
   "source": [
    "## ---------------------------\n",
    "##%runinterm\n",
    "##%term:c:\\Windows\\System32\\cmd.exe /c start \n",
    "## %cflags: -o src/test.exe\n",
    "## %ldflags:\n",
    "## ----------------------------------\n",
    "##%overwritefile\n",
    "##%file:src/test.rb\n",
    "## %noruncode\n",
    "##%log:1\n",
    "## ----------------------------------\n",
    "\n",
    "puts \"Hello World!\"\n",
    "print \"Hello World!\"\n",
    "puts \"Hello World!\""
   ]
  },
  {
   "cell_type": "code",
   "execution_count": null,
   "metadata": {},
   "outputs": [],
   "source": []
  }
 ],
 "metadata": {
  "kernelspec": {
   "display_name": "MyRuby",
   "language": "ruby",
   "name": "myruby"
  },
  "language_info": {
   "name": "ruby"
  },
  "orig_nbformat": 4
 },
 "nbformat": 4,
 "nbformat_minor": 2
}

{
 "cells": [
  {
   "cell_type": "code",
   "execution_count": 2,
   "metadata": {},
   "outputs": [
    {
     "name": "stdout",
     "output_type": "stream",
     "text": [
      "[MyRubyKernel173401] Info:file h:\\Jupyter\\ipynb\\MyRuby\\src/test.rb created successfully\n",
      "[MyRubyKernel173401] Info:The process :h:\\Jupyter\\ipynb\\MyRuby\\src/test.rb\n",
      "[MyRubyKernel173401] Info:ruby h:\\Jupyter\\ipynb\\MyRuby\\src/test.rb \n"
     ]
    },
    {
     "data": {
      "text/plain": [
       "Hello World!\r\n",
       "Hello World!Hello World!\r\n"
      ]
     },
     "metadata": {
      "text/plain": {}
     },
     "output_type": "display_data"
    },
    {
     "name": "stdout",
     "output_type": "stream",
     "text": [
      "[MyRubyKernel173401] Info:The process end:15628\n"
     ]
    }
   ],
   "source": [
    "## ---------------------------\n",
    "## %runinterm\n",
    "##%term:c:\\Windows\\System32\\cmd.exe /c start \n",
    "## %cflags: -o src/test.exe\n",
    "## %ldflags:\n",
    "## ----------------------------------\n",
    "##%overwritefile\n",
    "##%file:src/test.rb\n",
    "## %noruncode\n",
    "##%log:1\n",
    "## ----------------------------------\n",
    "\n",
    "puts \"Hello World!\"\n",
    "print \"Hello World!\"\n",
    "puts \"Hello World!\""
   ]
  },
  {
   "cell_type": "code",
   "execution_count": null,
   "metadata": {},
   "outputs": [],
   "source": []
  }
 ],
 "metadata": {
  "kernelspec": {
   "display_name": "MyRuby",
   "language": "ruby",
   "name": "myruby"
  },
  "language_info": {
   "name": "ruby"
  },
  "orig_nbformat": 4
 },
 "nbformat": 4,
 "nbformat_minor": 2
}
